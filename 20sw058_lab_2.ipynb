{
  "nbformat": 4,
  "nbformat_minor": 0,
  "metadata": {
    "colab": {
      "provenance": []
    },
    "kernelspec": {
      "name": "python3",
      "display_name": "Python 3"
    },
    "language_info": {
      "name": "python"
    }
  },
  "cells": [
    {
      "cell_type": "markdown",
      "source": [
        "Task 1"
      ],
      "metadata": {
        "id": "PAlEXPeD0pY1"
      }
    },
    {
      "cell_type": "code",
      "source": [
        "points = 174\n",
        "\n",
        "if points <= 50:\n",
        "    result = \"Congrats wooden rabbit!\"\n",
        "elif points <= 150:\n",
        "    result = \"No prize ):\"\n",
        "elif points <= 180:\n",
        "    result = \"Congrats! You won a wafer-thin mint!\"\n",
        "else:\n",
        "    result = \"Congrats! You won a penguin!\"\n",
        "\n",
        "print(result)"
      ],
      "metadata": {
        "colab": {
          "base_uri": "https://localhost:8080/"
        },
        "id": "9ikVz8U_0re9",
        "outputId": "c40a7e3b-7975-42a4-fd62-f8ce449a0d23"
      },
      "execution_count": 2,
      "outputs": [
        {
          "output_type": "stream",
          "name": "stdout",
          "text": [
            "Congrats! You won a wafer-thin mint!\n"
          ]
        }
      ]
    },
    {
      "cell_type": "markdown",
      "source": [
        "Task 2"
      ],
      "metadata": {
        "id": "QH0qbQa90tqd"
      }
    },
    {
      "cell_type": "code",
      "source": [
        "# Assuming 'answer' contains the number you are hiding and 'guess' contains the user's input\n",
        "\n",
        "answer = 42  # You can replace this with any number you want to hide\n",
        "\n",
        "# Get the user's guess as input\n",
        "guess = int(input(\"Take a guess: \"))\n",
        "\n",
        "# Compare the user's guess to the answer\n",
        "if guess < answer:\n",
        "    print(\"Your guess was too low.\")\n",
        "elif guess > answer:\n",
        "    print(\"Your guess was too high.\")\n",
        "else:\n",
        "    print(\"Congratulations! You guessed the correct number!\")"
      ],
      "metadata": {
        "colab": {
          "base_uri": "https://localhost:8080/"
        },
        "id": "C3YvDDwR0vIX",
        "outputId": "e314899c-4d6f-4eb0-e35e-9c44a718d6c0"
      },
      "execution_count": 3,
      "outputs": [
        {
          "output_type": "stream",
          "name": "stdout",
          "text": [
            "Take a guess: 5\n",
            "Your guess was too low.\n"
          ]
        }
      ]
    },
    {
      "cell_type": "markdown",
      "source": [
        "Task 3"
      ],
      "metadata": {
        "id": "q_qV1IKl0y77"
      }
    },
    {
      "cell_type": "code",
      "source": [
        "def calculate_tax(state, amount):\n",
        "    # Dictionary to store the tax rates for each state\n",
        "    tax_rates = {\n",
        "        'CA': 0.075,\n",
        "        'MN': 0.095,\n",
        "        'NY': 0.089\n",
        "    }\n",
        "\n",
        "    # Check if the provided state exists in the tax_rates dictionary\n",
        "    if state in tax_rates:\n",
        "        tax_rate = tax_rates[state]\n",
        "        tax_amount = amount * tax_rate\n",
        "        total_amount = amount + tax_amount\n",
        "        return total_amount\n",
        "    else:\n",
        "        raise ValueError(\"Invalid state. Tax rate for the provided state is not available.\")\n",
        "\n",
        "# Example usage:\n",
        "state = input(\"Enter your state (CA, MN, or NY): \")\n",
        "amount = float(input(\"Enter the purchase amount: \"))\n",
        "\n",
        "try:\n",
        "    total_amount_with_tax = calculate_tax(state, amount)\n",
        "    print(f\"Total amount with tax: ${total_amount_with_tax:.2f}\")\n",
        "except ValueError as e:\n",
        "    print(str(e))\n"
      ],
      "metadata": {
        "colab": {
          "base_uri": "https://localhost:8080/"
        },
        "id": "GjyloX37046X",
        "outputId": "6a6bec4a-7245-42af-9904-2aacd76ac04d"
      },
      "execution_count": 4,
      "outputs": [
        {
          "output_type": "stream",
          "name": "stdout",
          "text": [
            "Enter your state (CA, MN, or NY): 3\n",
            "Enter the purchase amount: 34\n",
            "Invalid state. Tax rate for the provided state is not available.\n"
          ]
        }
      ]
    },
    {
      "cell_type": "markdown",
      "source": [
        "Task 4"
      ],
      "metadata": {
        "id": "-VAqO8Jj1J7g"
      }
    },
    {
      "cell_type": "code",
      "source": [
        "sentence = [\"the\", \"quick\", \"brown\", \"fox\", \"jumped\", \"over\", \"the\", \"lazy\", \"dog\"]\n",
        "\n",
        "# Using a for loop to print each element of the list on its own line\n",
        "for word in sentence:\n",
        "    print(word)"
      ],
      "metadata": {
        "colab": {
          "base_uri": "https://localhost:8080/"
        },
        "id": "moCubi_U1LgH",
        "outputId": "9b559bd6-9482-4021-8214-79407a4a0208"
      },
      "execution_count": 5,
      "outputs": [
        {
          "output_type": "stream",
          "name": "stdout",
          "text": [
            "the\n",
            "quick\n",
            "brown\n",
            "fox\n",
            "jumped\n",
            "over\n",
            "the\n",
            "lazy\n",
            "dog\n"
          ]
        }
      ]
    },
    {
      "cell_type": "markdown",
      "source": [
        "Task 5"
      ],
      "metadata": {
        "id": "L4oZ9VOz1O7d"
      }
    },
    {
      "cell_type": "code",
      "source": [
        "# Using a for loop to print multiples of 5 less than or equal to 30\n",
        "for number in range(5, 31, 5):\n",
        "    print(number)\n"
      ],
      "metadata": {
        "colab": {
          "base_uri": "https://localhost:8080/"
        },
        "id": "PXq8rDk21Qns",
        "outputId": "b4323502-4e81-4813-e0da-3faf2024fb61"
      },
      "execution_count": 6,
      "outputs": [
        {
          "output_type": "stream",
          "name": "stdout",
          "text": [
            "5\n",
            "10\n",
            "15\n",
            "20\n",
            "25\n",
            "30\n"
          ]
        }
      ]
    },
    {
      "cell_type": "markdown",
      "source": [
        "Task 6"
      ],
      "metadata": {
        "id": "lXet6T871Tt8"
      }
    },
    {
      "cell_type": "code",
      "source": [
        "names = [\"Rick Sanchez\", \"Morty Smith\", \"Summer Smith\", \"Jerry Smith\", \"Beth Smith\"]\n",
        "\n",
        "# Using list comprehension to extract the first names in lowercase\n",
        "first_names = [name.split()[0].lower() for name in names]\n",
        "\n",
        "print(first_names)\n",
        ""
      ],
      "metadata": {
        "colab": {
          "base_uri": "https://localhost:8080/"
        },
        "id": "aSHX8DTP1VWr",
        "outputId": "3f77f723-1b0b-4293-d277-0d564fd2c0e2"
      },
      "execution_count": 7,
      "outputs": [
        {
          "output_type": "stream",
          "name": "stdout",
          "text": [
            "['rick', 'morty', 'summer', 'jerry', 'beth']\n"
          ]
        }
      ]
    },
    {
      "cell_type": "markdown",
      "source": [
        "task 7"
      ],
      "metadata": {
        "id": "5nwq9JQh1YZb"
      }
    },
    {
      "cell_type": "code",
      "source": [
        "# Using list comprehension to create a list of the first 20 multiples of 3\n",
        "multiples_3 = [num * 3 for num in range(1, 21)]\n",
        "\n",
        "print(multiples_3)\n"
      ],
      "metadata": {
        "colab": {
          "base_uri": "https://localhost:8080/"
        },
        "id": "vby7aR461abH",
        "outputId": "7ad97dc1-4338-4d92-8310-6a720fc0d7d2"
      },
      "execution_count": 8,
      "outputs": [
        {
          "output_type": "stream",
          "name": "stdout",
          "text": [
            "[3, 6, 9, 12, 15, 18, 21, 24, 27, 30, 33, 36, 39, 42, 45, 48, 51, 54, 57, 60]\n"
          ]
        }
      ]
    },
    {
      "cell_type": "markdown",
      "source": [
        "Task 8"
      ],
      "metadata": {
        "id": "heTsMyfB1d_G"
      }
    },
    {
      "cell_type": "code",
      "source": [
        "scores = {\n",
        "    \"Rick Sanchez\": 70,\n",
        "    \"Morty Smith\": 35,\n",
        "    \"Summer Smith\": 82,\n",
        "    \"Jerry Smith\": 23,\n",
        "    \"Beth Smith\": 98\n",
        "}\n",
        "\n",
        "# Using list comprehension to filter names of individuals who scored at least 65\n",
        "passed = [name for name, score in scores.items() if score >= 65]\n",
        "\n",
        "print(passed)"
      ],
      "metadata": {
        "colab": {
          "base_uri": "https://localhost:8080/"
        },
        "id": "T4WN5jDn1fB5",
        "outputId": "4e9f2261-6bf7-4952-a92d-faaae08ef16a"
      },
      "execution_count": 9,
      "outputs": [
        {
          "output_type": "stream",
          "name": "stdout",
          "text": [
            "['Rick Sanchez', 'Summer Smith', 'Beth Smith']\n"
          ]
        }
      ]
    },
    {
      "cell_type": "markdown",
      "source": [
        "Task 9"
      ],
      "metadata": {
        "id": "HCtUIDOF1hmr"
      }
    },
    {
      "cell_type": "code",
      "source": [
        "cast_names = [\"Barney\", \"Robin\", \"Ted\", \"Lily\", \"Marshall\"]\n",
        "cast_heights = [72, 68, 72, 66, 76]\n",
        "\n",
        "# Using zip() to create the dictionary 'cast'\n",
        "cast = dict(zip(cast_names, cast_heights))\n",
        "\n",
        "print(cast)"
      ],
      "metadata": {
        "colab": {
          "base_uri": "https://localhost:8080/"
        },
        "id": "5KSeBuda1jHA",
        "outputId": "a0d602ff-3001-4b3b-fcb6-570ea09b0ac1"
      },
      "execution_count": 10,
      "outputs": [
        {
          "output_type": "stream",
          "name": "stdout",
          "text": [
            "{'Barney': 72, 'Robin': 68, 'Ted': 72, 'Lily': 66, 'Marshall': 76}\n"
          ]
        }
      ]
    },
    {
      "cell_type": "markdown",
      "source": [
        "Task 10"
      ],
      "metadata": {
        "id": "upiVhK4m1pND"
      }
    },
    {
      "cell_type": "code",
      "source": [
        "cast = [\"Barney Stinson\", \"Robin Scherbatsky\", \"Ted Mosby\", \"Lily Aldrin\", \"Marshall Eriksen\"]\n",
        "heights = [72, 68, 72, 66, 76]\n",
        "\n",
        "# Using enumerate() and a for loop to modify the 'cast' list\n",
        "for index, name in enumerate(cast):\n",
        "    height = heights[index]\n",
        "    cast[index] = f\"{name}{height}\"\n",
        "\n",
        "print(cast)"
      ],
      "metadata": {
        "colab": {
          "base_uri": "https://localhost:8080/"
        },
        "id": "mz1WAqUc1q2V",
        "outputId": "e590fdfb-91fd-4e9f-e199-9ec3050087e4"
      },
      "execution_count": 11,
      "outputs": [
        {
          "output_type": "stream",
          "name": "stdout",
          "text": [
            "['Barney Stinson72', 'Robin Scherbatsky68', 'Ted Mosby72', 'Lily Aldrin66', 'Marshall Eriksen76']\n"
          ]
        }
      ]
    }
  ]
}