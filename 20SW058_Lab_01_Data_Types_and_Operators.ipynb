{
  "nbformat": 4,
  "nbformat_minor": 0,
  "metadata": {
    "colab": {
      "provenance": []
    },
    "kernelspec": {
      "name": "python3",
      "display_name": "Python 3"
    },
    "language_info": {
      "name": "python"
    }
  },
  "cells": [
    {
      "cell_type": "code",
      "execution_count": 1,
      "metadata": {
        "colab": {
          "base_uri": "https://localhost:8080/"
        },
        "id": "Z1DIIaBaNRtK",
        "outputId": "5dd8661d-5c81-4af2-c01a-f8b0c29c353d"
      },
      "outputs": [
        {
          "output_type": "stream",
          "name": "stdout",
          "text": [
            "The value of variable1 is 5085 and the value of variable2 is My, world!.\n"
          ]
        }
      ],
      "source": [
        "#Task#1\n",
        "\n",
        "# Write two lines of code below, each assigning a value to a variable\n",
        "# Now write a print statement using .format() to print out a sentence and the values of both of the variables\n",
        "\n",
        "# Assign values to variables\n",
        "variable1 = 5085\n",
        "variable2 = \"My, world!\"\n",
        "\n",
        "# Print the sentence and the values of both variables\n",
        "print(\"The value of variable1 is {} and the value of variable2 is {}.\".format(variable1, variable2))"
      ]
    },
    {
      "cell_type": "code",
      "source": [
        "#Task#2\n",
        "\n",
        "# Browse the complete list of string methods at: https://docs.python.org/3/library/stdtypes.html#string-methods and try them out here\n",
        "\n",
        "\n",
        "#str.endswith(suffix): Returns True if the string ends with the specified suffix, otherwise False.\n",
        "text = \"my, world!\"\n",
        "print(text.endswith(\"World!\"))  # Output: True\n",
        "print(text.endswith(\"Hello\"))   # Output: False\n",
        "\n",
        "#str.split(separator): Splits the string into a list of substrings using the separator.\n",
        "text1 = \"apple,banana,orange\"\n",
        "fruits = text1.split(\",\")\n",
        "print(fruits)  # Output: ['apple', 'banana', 'orange']\n",
        "\n",
        "#str.join(iterable): Concatenates elements of an iterable (e.g., list) into a single string using str as the separator.\n",
        "fruits = ['apple', 'banana', 'orange']\n",
        "text2 = \"-\".join(fruits)\n",
        "print(text2)  # Output: \"apple-banana-orange\"\n",
        "\n",
        "#str.lower(): Returns a copy of the string with all characters in lowercase.\n",
        "text3 = \"Hello, World!\"\n",
        "print(text3.lower())  # Output: \"hello, world!\"\n",
        "\n"
      ],
      "metadata": {
        "colab": {
          "base_uri": "https://localhost:8080/"
        },
        "id": "fXE_7wlnNZHP",
        "outputId": "164d1df0-3ba3-420d-aa91-15fd806bad01"
      },
      "execution_count": 2,
      "outputs": [
        {
          "output_type": "stream",
          "name": "stdout",
          "text": [
            "False\n",
            "False\n",
            "['apple', 'banana', 'orange']\n",
            "apple-banana-orange\n",
            "hello, world!\n"
          ]
        }
      ]
    },
    {
      "cell_type": "code",
      "source": [
        "#Task#03\n",
        "\n",
        "# List IndexingUse list indexing to determine how many days are in a particular month based on the integer variablemonth, and store that value in the integer variablenum_days. For example, if monthis 8,num_days should be set to 31, since the eighth month, August, has 31 days.Remember to account for zero-based indexing!\n",
        "\n",
        "\n",
        "# Assume month is an integer variable representing the month (1 for January, 2 for February, and so on)\n",
        "month = 5\n",
        "\n",
        "# List to store the number of days in each month (index 0 will not be used)\n",
        "days_in_month = [0, 31, 28, 31, 30, 31, 30, 31, 31, 30, 31, 30, 31]\n",
        "\n",
        "# Adjust month value for zero-based indexing\n",
        "adjusted_month = month - 1\n",
        "\n",
        "# Get the number of days for the given month\n",
        "num_days = days_in_month[adjusted_month]\n",
        "\n",
        "print(num_days)\n"
      ],
      "metadata": {
        "colab": {
          "base_uri": "https://localhost:8080/"
        },
        "id": "3bzS0b51NZR0",
        "outputId": "bed0dcf5-5361-42ec-cda2-ce5e20c57a89"
      },
      "execution_count": 3,
      "outputs": [
        {
          "output_type": "stream",
          "name": "stdout",
          "text": [
            "30\n"
          ]
        }
      ]
    },
    {
      "cell_type": "code",
      "source": [
        "#Task#04\n",
        "\n",
        "#Select the three most recent dates from this list using list slicing notation. Hint: negative indexes work in slices!\n",
        "\n",
        "eclipse_dates = ['June 21, 2001', 'December 4, 2002', 'November 23, 2003', 'March 29, 2006', 'August 1, 2008', 'July 22, 2009', 'July 11, 2010', 'November 13, 2012', 'March 20, 2015', 'March 9, 2016']\n",
        "\n",
        "# Select the three most recent dates using list slicing with negative indices\n",
        "recent_dates = eclipse_dates[-3:]\n",
        "\n",
        "# Print the three most recent dates\n",
        "print(recent_dates)"
      ],
      "metadata": {
        "colab": {
          "base_uri": "https://localhost:8080/"
        },
        "id": "iRUUA1oBNZcx",
        "outputId": "95b9c5ee-43fa-4f2b-fa02-eca9d6fec8a6"
      },
      "execution_count": 4,
      "outputs": [
        {
          "output_type": "stream",
          "name": "stdout",
          "text": [
            "['November 13, 2012', 'March 20, 2015', 'March 9, 2016']\n"
          ]
        }
      ]
    },
    {
      "cell_type": "code",
      "source": [
        "#Task#05\n",
        "\n",
        "#Store student’s data using nested dictionary.\n",
        "# Create a nested dictionary to store student data\n",
        "students = {\n",
        "    'student1': {\n",
        "        'name': 'Ali',\n",
        "        'age': 20,\n",
        "        'grade': 'A'\n",
        "    },\n",
        "    'student2': {\n",
        "        'name': 'Malik',\n",
        "        'age': 19,\n",
        "        'grade': 'B'\n",
        "    },\n",
        "    'student3': {\n",
        "        'name': 'Bhutto',\n",
        "        'age': 21,\n",
        "        'grade': 'A+'\n",
        "    }\n",
        "}\n",
        "\n",
        "# Access and print student data\n",
        "print(students['student1']['name'])\n",
        "print(students['student2']['age'])\n",
        "print(students['student3']['grade'])"
      ],
      "metadata": {
        "colab": {
          "base_uri": "https://localhost:8080/"
        },
        "id": "U6UMIczxNZpq",
        "outputId": "cfc7b7d7-fe23-4d95-bc8c-128d3c7b2234"
      },
      "execution_count": 5,
      "outputs": [
        {
          "output_type": "stream",
          "name": "stdout",
          "text": [
            "Ali\n",
            "19\n",
            "A+\n"
          ]
        }
      ]
    },
    {
      "cell_type": "code",
      "source": [],
      "metadata": {
        "id": "_OJU1Z5ePppw"
      },
      "execution_count": null,
      "outputs": []
    }
  ]
}